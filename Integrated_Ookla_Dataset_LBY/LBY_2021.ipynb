{
 "cells": [
  {
   "cell_type": "code",
   "execution_count": null,
   "metadata": {},
   "outputs": [],
   "source": [
    "import pandas as pd\n",
    "\n",
    "# Load the four CSV files into dataframes\n",
    "df1 = pd.read_csv('cleaned_data_lby_Q1.csv')\n",
    "df2 = pd.read_csv('cleaned_data_lby_Q2.csv')\n",
    "df3 = pd.read_csv('cleaned_data_lby_Q3.csv')\n",
    "df4 = pd.read_csv('cleaned_data_lby_Q4.csv')\n",
    "\n",
    "# Add the 'quarter' column with the respective quarter value\n",
    "df1['quarter'] = 'Q1'\n",
    "df2['quarter'] = 'Q2'\n",
    "df3['quarter'] = 'Q3'\n",
    "df4['quarter'] = 'Q4'\n",
    "\n",
    "# Now, integrate all four datasets (assuming they have the same structure and rows)\n",
    "final_df = pd.concat([df1, df2, df3, df4], axis=0)\n",
    "\n",
    "# Save the final integrated dataset to a new CSV file\n",
    "final_df.to_csv('integrated_data_lby_2021.csv', index=False)\n"
   ]
  }
 ],
 "metadata": {
  "language_info": {
   "name": "python"
  }
 },
 "nbformat": 4,
 "nbformat_minor": 2
}
